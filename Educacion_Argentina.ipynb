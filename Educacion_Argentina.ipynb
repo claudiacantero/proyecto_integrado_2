{
  "nbformat": 4,
  "nbformat_minor": 0,
  "metadata": {
    "colab": {
      "provenance": [],
      "authorship_tag": "ABX9TyNW+P1JZUm0EV74ibMj5vqy",
      "include_colab_link": true
    },
    "kernelspec": {
      "name": "python3",
      "display_name": "Python 3"
    },
    "language_info": {
      "name": "python"
    }
  },
  "cells": [
    {
      "cell_type": "markdown",
      "metadata": {
        "id": "view-in-github",
        "colab_type": "text"
      },
      "source": [
        "<a href=\"https://colab.research.google.com/github/claudiacantero/proyecto_integrado_2/blob/main/Educacion_Argentina.ipynb\" target=\"_parent\"><img src=\"https://colab.research.google.com/assets/colab-badge.svg\" alt=\"Open In Colab\"/></a>"
      ]
    },
    {
      "source": [
        "import matplotlib.pyplot as plt\n",
        "   import pandas as pd"
      ],
      "cell_type": "code",
      "metadata": {
        "id": "fOhtz6vovdRV"
      },
      "execution_count": null,
      "outputs": []
    },
    {
      "source": [
        "data = {'Materia': ['Matematicas', 'Ciencias', 'Historia', 'Lengua'],\n",
        "           'Promedio': [85, 92, 78, 88],\n",
        "           'Faltas': [5, 2, 3, 1]}\n",
        "   df = pd.DataFrame(data)"
      ],
      "cell_type": "code",
      "metadata": {
        "id": "oLOENpOsvd8Y"
      },
      "execution_count": null,
      "outputs": []
    },
    {
      "source": [
        "df = df.sort_values(by=['Promedio'], ascending=False)"
      ],
      "cell_type": "code",
      "metadata": {
        "id": "ZHNfC4dtvelc"
      },
      "execution_count": null,
      "outputs": []
    },
    {
      "source": [
        "fig, ax1 = plt.subplots(figsize=(10, 6))  # Adjust figure size as needed\n",
        "\n",
        "   # Bar chart for average grades\n",
        "   ax1.bar(df['Materia'], df['Promedio'], color='skyblue', label='Promedio')\n",
        "   ax1.set_xlabel('Materia')\n",
        "   ax1.set_ylabel('Promedio', color='skyblue')\n",
        "   ax1.tick_params('y', labelcolor='skyblue')\n",
        "\n",
        "   # Create a second y-axis for absences\n",
        "   ax2 = ax1.twinx()\n",
        "   ax2.plot(df['Materia'], df['Faltas'], color='red', marker='o', label='Faltas')\n",
        "   ax2.set_ylabel('Faltas', color='red')\n",
        "   ax2.tick_params('y', labelcolor='red')\n",
        "\n",
        "   # Add legends and title\n",
        "   plt.title('Promedio General y Faltas por Materia')\n",
        "   fig.legend(loc='upper right')\n",
        "\n",
        "   plt.show() # To see the output, run the code"
      ],
      "cell_type": "code",
      "metadata": {
        "id": "_3HcN30xvfDp"
      },
      "execution_count": null,
      "outputs": []
    }
  ]
}